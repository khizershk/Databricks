{
 "cells": [
  {
   "cell_type": "code",
   "execution_count": 0,
   "metadata": {
    "application/vnd.databricks.v1+cell": {
     "cellMetadata": {
      "byteLimit": 2048000,
      "rowLimit": 10000
     },
     "inputWidgets": {},
     "nuid": "87825a0e-e647-4239-81be-14416d617859",
     "showTitle": false,
     "tableResultSettingsMap": {},
     "title": ""
    }
   },
   "outputs": [],
   "source": [
    "from pyspark.sql.types import StructType, StructField, StringType, DoubleType\n",
    "from pyspark.sql import functions as F\n",
    "\n",
    "# 1. Define schema explicitly\n",
    "schema = StructType([\n",
    "    StructField(\"sepal_length\", DoubleType(), True),\n",
    "    StructField(\"sepal_width\", DoubleType(), True),\n",
    "    StructField(\"petal_length\", DoubleType(), True),\n",
    "    StructField(\"petal_width\", DoubleType(), True),\n",
    "    StructField(\"species\", StringType(), True)\n",
    "])\n",
    "\n",
    "# 2. Read CSV with schema\n",
    "data = spark.read.csv(\n",
    "    \"/Volumes/newone/day3/files/iris.csv\",\n",
    "    schema=schema,\n",
    "    header=True\n",
    ")\n",
    "\n",
    "# Show nullable info\n",
    "for field in schema.fields:\n",
    "    print(f\"Column: {field.name}, Type: {field.dataType}, Nullable: {field.nullable}\")\n",
    "\n",
    "# 3. Add a new column (example: petal_area = petal_length * petal_width)\n",
    "data = data.withColumn(\"petal_area\", F.col(\"petal_length\") * F.col(\"petal_width\"))\n",
    "\n",
    "data.show()"
   ]
  },
  {
   "cell_type": "code",
   "execution_count": 0,
   "metadata": {
    "application/vnd.databricks.v1+cell": {
     "cellMetadata": {
      "byteLimit": 2048000,
      "rowLimit": 10000
     },
     "inputWidgets": {},
     "nuid": "be7b414c-808a-4b5f-8c10-79ceef889ae7",
     "showTitle": false,
     "tableResultSettingsMap": {},
     "title": ""
    }
   },
   "outputs": [],
   "source": [
    "from pyspark.sql.types import StructType, StructField, StringType, ArrayType\n",
    "\n",
    "data = [\n",
    "    ((\"John\", \"A\", \"Doe\"), [\"Python\", \"Java\", \"Scala\"], (\"California\", \"USA\")),\n",
    "    ((\"Jane\", \"B\", \"Smith\"), [\"C++\", \"Go\"], (\"Texas\", \"USA\")),\n",
    "    ((\"Raj\", \"K\", \"Verma\"), [\"Python\", \"JavaScript\"], (\"Maharashtra\", \"India\"))\n",
    "]\n",
    "\n",
    "schema = StructType([\n",
    "    StructField(\"full_name\", StructType([\n",
    "        StructField(\"first\", StringType(), True),\n",
    "        StructField(\"middle\", StringType(), True),\n",
    "        StructField(\"last\", StringType(), True)\n",
    "    ]), True),\n",
    "    StructField(\"programming_languages\", ArrayType(StringType()), True),\n",
    "    StructField(\"location\", StructType([\n",
    "        StructField(\"state\", StringType(), True),\n",
    "        StructField(\"country\", StringType(), True)\n",
    "    ]), True)\n",
    "])\n",
    "\n",
    "# Create DataFrame\n",
    "df = spark.createDataFrame(data, schema=schema)\n",
    "df.show()"
   ]
  },
  {
   "cell_type": "code",
   "execution_count": 0,
   "metadata": {
    "application/vnd.databricks.v1+cell": {
     "cellMetadata": {
      "byteLimit": 2048000,
      "rowLimit": 10000
     },
     "inputWidgets": {},
     "nuid": "63710c2a-d930-43d2-997f-c904121e622a",
     "showTitle": false,
     "tableResultSettingsMap": {},
     "title": ""
    }
   },
   "outputs": [],
   "source": [
    "from pyspark.sql.types import StructField, StructType, StringType, MapType\n",
    "schema = StructType([\n",
    "    StructField('name', StringType(), True),\n",
    "    StructField('properties', MapType(StringType(),StringType()),True)\n",
    "])\n",
    "\n",
    "dataDictionary = [\n",
    "        ('James',{'hair':'black'}),\n",
    "        ('Michael',{'hair':'brown'}),\n",
    "        ('Robert',{'hair':'red'}),\n",
    "        ('Washington',{'hair':'grey'}),\n",
    "        ('Jefferson',{'hair':'brown'})\n",
    "        ]\n",
    "df = spark.createDataFrame(data=dataDictionary, schema = schema)\n",
    "df.show()\n"
   ]
  },
  {
   "cell_type": "code",
   "execution_count": 0,
   "metadata": {
    "application/vnd.databricks.v1+cell": {
     "cellMetadata": {
      "byteLimit": 2048000,
      "rowLimit": 10000
     },
     "inputWidgets": {},
     "nuid": "54fc35ef-d7e7-4c3d-a33c-7025a24a6e69",
     "showTitle": false,
     "tableResultSettingsMap": {},
     "title": ""
    }
   },
   "outputs": [],
   "source": [
    "from pyspark.sql import SparkSession, Row\n",
    "\n",
    "rdd = spark.createDataFrame([Row(name = \"James\",age = 43),Row(name = \"Anna\",age = 33)])\n",
    "rdd.collect()"
   ]
  }
 ],
 "metadata": {
  "application/vnd.databricks.v1+notebook": {
   "computePreferences": null,
   "dashboards": [],
   "environmentMetadata": {
    "base_environment": "",
    "environment_version": "2"
   },
   "inputWidgetPreferences": null,
   "language": "python",
   "notebookMetadata": {
    "pythonIndentUnit": 4
   },
   "notebookName": "Day2",
   "widgets": {}
  },
  "language_info": {
   "name": "python"
  }
 },
 "nbformat": 4,
 "nbformat_minor": 0
}
